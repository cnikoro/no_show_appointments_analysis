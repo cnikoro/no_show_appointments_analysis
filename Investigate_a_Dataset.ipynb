{
 "cells": [
  {
   "cell_type": "markdown",
   "metadata": {},
   "source": [
    "# Project: Investigate a Dataset - Analysing no show appointments data\n",
    "\n",
    "## Table of Contents\n",
    "<ul>\n",
    "<li><a href=\"#intro\">Introduction</a></li>\n",
    "<li><a href=\"#wrangling\">Data Wrangling</a></li>\n",
    "<li><a href=\"#eda\">Exploratory Data Analysis</a></li>\n",
    "<li><a href=\"#conclusions\">Conclusions</a></li>\n",
    "</ul>"
   ]
  },
  {
   "cell_type": "markdown",
   "metadata": {},
   "source": [
    "<a id='intro'></a>\n",
    "## Introduction\n",
    "\n",
    "### Dataset Description  \n",
    "\n",
    "We are analyzing the no show appointments dataset originally sourced from [Kaggle](https://www.kaggle.com/datasets/joniarroba/noshowappointments). This dataset contains medical information from about 100k medical appointments in Brazil. The names of the columns in this dataset are PatientId, AppointmentID, Gender, ScheduledDay, AppointmentDay, Age, Neighbourhood, Scholarship, Hipertension, Diabetes, Alcoholism, Handcap, SMS_received, and No-show.\n",
    "\n",
    "The No-show column is the dependent variable. It comprises two values: \"Yes\" for patients that didn't show up for their appointment and \"No\" for those that showed up. The other columns are independent variables most of which are binary with two possible values. The ScheduledDay column is the date an appointment was scheduled, and the AppointmentDay column is the date for an appointment.\n",
    "\n",
    "Our main goal is to determine possible factors that contribute to patients not showing up for their appointments.\n",
    "\n",
    "### Question(s) for Analysis\n",
    "\n",
    "To do this, we will be exploring the following questions:\n",
    "\n",
    "- Are patients less likely to show up if they made several appointments?\n",
    "- Are patients less likely to show up if they don't suffer from any of the following cases: hypertension, diabetes, alcohol related problems, or a disability?\n",
    "- Are patients less likely to show up if they have a scholarship and suffer from any of the following cases: hypertension, diabetes, alcohol related problems, or a disability?\n",
    "- Are patients less likely to show up if they receive an SMS?\n",
    "- Are male patients less likely to show up than female patients?\n",
    "- Are patients less likely to show up if their appointment is on the same day it was scheduled?\n",
    "- Which of the age groups are less likely to show up?"
   ]
  },
  {
   "cell_type": "code",
   "execution_count": 1,
   "metadata": {},
   "outputs": [],
   "source": [
    "# import packages\n",
    "\n",
    "import pandas as pd\n",
    "import numpy as np\n",
    "from scipy import stats\n",
    "import matplotlib.pyplot as plt\n",
    "%matplotlib inline"
   ]
  },
  {
   "cell_type": "code",
   "execution_count": 81,
   "metadata": {},
   "outputs": [],
   "source": [
    "# These function will be used later\n",
    "\n",
    "def plot_proportions(data, title):\n",
    "    \"\"\"plot_proportions(data, title) --> None\n",
    "       data --> dict\n",
    "       title --> str\n",
    "       plot data on a bar chart with plt.title set to title\n",
    "    \"\"\"\n",
    "    plt.bar(proportions.keys(), proportions.values())\n",
    "    plt.title(title)\n",
    "    plt.ylabel(\"Proportions\")\n",
    "    plt.show()\n",
    "    \n",
    "def plot_2d_bar_chart(x, y1, y2, title, x_label, y_label, legend_labels):\n",
    "    \"\"\"plot_2d_bar_chart(x,y1,title,x_label,y_label, legend_labels) --> None\n",
    "       x, legend_labels --> list\n",
    "       y1, y2 --> pandas Series\n",
    "       title, x_label, y_label --> str\n",
    "       plot a stacked bar chart of two variables.\n",
    "    \"\"\"\n",
    "    ax = plt.subplot()\n",
    "\n",
    "    ax.bar(x, y1, color='r', label=legend_labels[0])\n",
    "    ax.bar(x, y2, color='g', label=legend_labels[1], alpha=0.5)\n",
    "    ax.set_title(title)\n",
    "    ax.set_xlabel(x_label)\n",
    "    ax.set_ylabel(y_label)\n",
    "    ax.legend();"
   ]
  },
  {
   "cell_type": "code",
   "execution_count": 40,
   "metadata": {},
   "outputs": [
    {
     "name": "stdout",
     "output_type": "stream",
     "text": [
      "Collecting pandas\n",
      "  Using cached https://files.pythonhosted.org/packages/c3/e2/00cacecafbab071c787019f00ad84ca3185952f6bb9bca9550ed83870d4d/pandas-1.1.5-cp36-cp36m-manylinux1_x86_64.whl\n",
      "Requirement already satisfied, skipping upgrade: pytz>=2017.2 in /opt/conda/lib/python3.6/site-packages (from pandas) (2017.3)\n",
      "Requirement already satisfied, skipping upgrade: python-dateutil>=2.7.3 in /opt/conda/lib/python3.6/site-packages (from pandas) (2.8.2)\n",
      "Requirement already satisfied, skipping upgrade: numpy>=1.15.4 in /opt/conda/lib/python3.6/site-packages (from pandas) (1.19.5)\n",
      "Requirement already satisfied, skipping upgrade: six>=1.5 in /opt/conda/lib/python3.6/site-packages (from python-dateutil>=2.7.3->pandas) (1.11.0)\n",
      "Installing collected packages: pandas\n",
      "  Found existing installation: pandas 0.25.0\n",
      "    Uninstalling pandas-0.25.0:\n",
      "      Successfully uninstalled pandas-0.25.0\n",
      "Successfully installed pandas-1.1.5\n"
     ]
    }
   ],
   "source": [
    "# Upgrade pandas to use dataframe.explode() function. \n",
    "!pip install --upgrade pandas"
   ]
  },
  {
   "cell_type": "markdown",
   "metadata": {},
   "source": [
    "<a id='wrangling'></a>\n",
    "## Data Wrangling\n",
    "\n",
    "\n",
    "### General Properties\n",
    "Let's load the data and take a look at its general properties."
   ]
  },
  {
   "cell_type": "code",
   "execution_count": 4,
   "metadata": {
    "scrolled": true
   },
   "outputs": [
    {
     "data": {
      "text/html": [
       "<div>\n",
       "<style scoped>\n",
       "    .dataframe tbody tr th:only-of-type {\n",
       "        vertical-align: middle;\n",
       "    }\n",
       "\n",
       "    .dataframe tbody tr th {\n",
       "        vertical-align: top;\n",
       "    }\n",
       "\n",
       "    .dataframe thead th {\n",
       "        text-align: right;\n",
       "    }\n",
       "</style>\n",
       "<table border=\"1\" class=\"dataframe\">\n",
       "  <thead>\n",
       "    <tr style=\"text-align: right;\">\n",
       "      <th></th>\n",
       "      <th>PatientId</th>\n",
       "      <th>AppointmentID</th>\n",
       "      <th>Gender</th>\n",
       "      <th>ScheduledDay</th>\n",
       "      <th>AppointmentDay</th>\n",
       "      <th>Age</th>\n",
       "      <th>Neighbourhood</th>\n",
       "      <th>Scholarship</th>\n",
       "      <th>Hipertension</th>\n",
       "      <th>Diabetes</th>\n",
       "      <th>Alcoholism</th>\n",
       "      <th>Handcap</th>\n",
       "      <th>SMS_received</th>\n",
       "      <th>No-show</th>\n",
       "    </tr>\n",
       "  </thead>\n",
       "  <tbody>\n",
       "    <tr>\n",
       "      <th>0</th>\n",
       "      <td>2.987250e+13</td>\n",
       "      <td>5642903</td>\n",
       "      <td>F</td>\n",
       "      <td>2016-04-29 18:38:08</td>\n",
       "      <td>2016-04-29</td>\n",
       "      <td>62</td>\n",
       "      <td>JARDIM DA PENHA</td>\n",
       "      <td>0</td>\n",
       "      <td>1</td>\n",
       "      <td>0</td>\n",
       "      <td>0</td>\n",
       "      <td>0</td>\n",
       "      <td>0</td>\n",
       "      <td>No</td>\n",
       "    </tr>\n",
       "    <tr>\n",
       "      <th>1</th>\n",
       "      <td>5.589978e+14</td>\n",
       "      <td>5642503</td>\n",
       "      <td>M</td>\n",
       "      <td>2016-04-29 16:08:27</td>\n",
       "      <td>2016-04-29</td>\n",
       "      <td>56</td>\n",
       "      <td>JARDIM DA PENHA</td>\n",
       "      <td>0</td>\n",
       "      <td>0</td>\n",
       "      <td>0</td>\n",
       "      <td>0</td>\n",
       "      <td>0</td>\n",
       "      <td>0</td>\n",
       "      <td>No</td>\n",
       "    </tr>\n",
       "    <tr>\n",
       "      <th>2</th>\n",
       "      <td>4.262962e+12</td>\n",
       "      <td>5642549</td>\n",
       "      <td>F</td>\n",
       "      <td>2016-04-29 16:19:04</td>\n",
       "      <td>2016-04-29</td>\n",
       "      <td>62</td>\n",
       "      <td>MATA DA PRAIA</td>\n",
       "      <td>0</td>\n",
       "      <td>0</td>\n",
       "      <td>0</td>\n",
       "      <td>0</td>\n",
       "      <td>0</td>\n",
       "      <td>0</td>\n",
       "      <td>No</td>\n",
       "    </tr>\n",
       "    <tr>\n",
       "      <th>3</th>\n",
       "      <td>8.679512e+11</td>\n",
       "      <td>5642828</td>\n",
       "      <td>F</td>\n",
       "      <td>2016-04-29 17:29:31</td>\n",
       "      <td>2016-04-29</td>\n",
       "      <td>8</td>\n",
       "      <td>PONTAL DE CAMBURI</td>\n",
       "      <td>0</td>\n",
       "      <td>0</td>\n",
       "      <td>0</td>\n",
       "      <td>0</td>\n",
       "      <td>0</td>\n",
       "      <td>0</td>\n",
       "      <td>No</td>\n",
       "    </tr>\n",
       "    <tr>\n",
       "      <th>4</th>\n",
       "      <td>8.841186e+12</td>\n",
       "      <td>5642494</td>\n",
       "      <td>F</td>\n",
       "      <td>2016-04-29 16:07:23</td>\n",
       "      <td>2016-04-29</td>\n",
       "      <td>56</td>\n",
       "      <td>JARDIM DA PENHA</td>\n",
       "      <td>0</td>\n",
       "      <td>1</td>\n",
       "      <td>1</td>\n",
       "      <td>0</td>\n",
       "      <td>0</td>\n",
       "      <td>0</td>\n",
       "      <td>No</td>\n",
       "    </tr>\n",
       "  </tbody>\n",
       "</table>\n",
       "</div>"
      ],
      "text/plain": [
       "      PatientId  AppointmentID Gender        ScheduledDay AppointmentDay  Age  \\\n",
       "0  2.987250e+13        5642903      F 2016-04-29 18:38:08     2016-04-29   62   \n",
       "1  5.589978e+14        5642503      M 2016-04-29 16:08:27     2016-04-29   56   \n",
       "2  4.262962e+12        5642549      F 2016-04-29 16:19:04     2016-04-29   62   \n",
       "3  8.679512e+11        5642828      F 2016-04-29 17:29:31     2016-04-29    8   \n",
       "4  8.841186e+12        5642494      F 2016-04-29 16:07:23     2016-04-29   56   \n",
       "\n",
       "       Neighbourhood  Scholarship  Hipertension  Diabetes  Alcoholism  \\\n",
       "0    JARDIM DA PENHA            0             1         0           0   \n",
       "1    JARDIM DA PENHA            0             0         0           0   \n",
       "2      MATA DA PRAIA            0             0         0           0   \n",
       "3  PONTAL DE CAMBURI            0             0         0           0   \n",
       "4    JARDIM DA PENHA            0             1         1           0   \n",
       "\n",
       "   Handcap  SMS_received No-show  \n",
       "0        0             0      No  \n",
       "1        0             0      No  \n",
       "2        0             0      No  \n",
       "3        0             0      No  \n",
       "4        0             0      No  "
      ]
     },
     "execution_count": 4,
     "metadata": {},
     "output_type": "execute_result"
    }
   ],
   "source": [
    "# Load data and display the first few lines\n",
    "df = pd.read_csv('Database_No_show_appointments/noshowappointments-kagglev2-may-2016.csv',\n",
    "                 parse_dates=['ScheduledDay', 'AppointmentDay'])\n",
    "df.head()"
   ]
  },
  {
   "cell_type": "code",
   "execution_count": 5,
   "metadata": {
    "scrolled": true
   },
   "outputs": [
    {
     "data": {
      "text/plain": [
       "(110527, 14)"
      ]
     },
     "execution_count": 5,
     "metadata": {},
     "output_type": "execute_result"
    }
   ],
   "source": [
    "df.shape"
   ]
  },
  {
   "cell_type": "code",
   "execution_count": 6,
   "metadata": {
    "scrolled": false
   },
   "outputs": [
    {
     "name": "stdout",
     "output_type": "stream",
     "text": [
      "<class 'pandas.core.frame.DataFrame'>\n",
      "RangeIndex: 110527 entries, 0 to 110526\n",
      "Data columns (total 14 columns):\n",
      "PatientId         110527 non-null float64\n",
      "AppointmentID     110527 non-null int64\n",
      "Gender            110527 non-null object\n",
      "ScheduledDay      110527 non-null datetime64[ns]\n",
      "AppointmentDay    110527 non-null datetime64[ns]\n",
      "Age               110527 non-null int64\n",
      "Neighbourhood     110527 non-null object\n",
      "Scholarship       110527 non-null int64\n",
      "Hipertension      110527 non-null int64\n",
      "Diabetes          110527 non-null int64\n",
      "Alcoholism        110527 non-null int64\n",
      "Handcap           110527 non-null int64\n",
      "SMS_received      110527 non-null int64\n",
      "No-show           110527 non-null object\n",
      "dtypes: datetime64[ns](2), float64(1), int64(8), object(3)\n",
      "memory usage: 11.8+ MB\n"
     ]
    }
   ],
   "source": [
    "df.info() ## no null values"
   ]
  },
  {
   "cell_type": "markdown",
   "metadata": {},
   "source": [
    "There are a total of 110527 rows and 14 columns with no missing values. The PatientId column is stored in the dataframe as a float, but making float comparisons might give unexpected results. We can't change it to an integer because its values are quite large. We will therefore convert it to a string. \n",
    "\n",
    "We will rename the No-show column by replacing the hyphen with an underscore so that we can use it make queries with pandas' query method and also convert its values to integers: \"Yes\" will be converted to 1 and \"No\" to 0. This is because we can't plot non-numeric data in a scatter plot. The Hipertension column is misspelt. We will also correct this as well."
   ]
  },
  {
   "cell_type": "code",
   "execution_count": 7,
   "metadata": {},
   "outputs": [
    {
     "data": {
      "text/plain": [
       "0"
      ]
     },
     "execution_count": 7,
     "metadata": {},
     "output_type": "execute_result"
    }
   ],
   "source": [
    "df.duplicated().sum() # check for duplicates across the entire dataframe"
   ]
  },
  {
   "cell_type": "code",
   "execution_count": 8,
   "metadata": {},
   "outputs": [
    {
     "data": {
      "text/plain": [
       "48228"
      ]
     },
     "execution_count": 8,
     "metadata": {},
     "output_type": "execute_result"
    }
   ],
   "source": [
    "df['PatientId'].duplicated().sum() # Check if there are patients with more than one appointments"
   ]
  },
  {
   "cell_type": "code",
   "execution_count": 9,
   "metadata": {
    "scrolled": true
   },
   "outputs": [
    {
     "data": {
      "text/plain": [
       "0"
      ]
     },
     "execution_count": 9,
     "metadata": {},
     "output_type": "execute_result"
    }
   ],
   "source": [
    "df['AppointmentID'].duplicated().sum() # check if there are unique appointments for each patient"
   ]
  },
  {
   "cell_type": "markdown",
   "metadata": {},
   "source": [
    "There are no duplicates across the entire dataframe, but it looks like there are some patients with more than one appointments."
   ]
  },
  {
   "cell_type": "code",
   "execution_count": 10,
   "metadata": {
    "scrolled": true
   },
   "outputs": [
    {
     "data": {
      "text/html": [
       "<div>\n",
       "<style scoped>\n",
       "    .dataframe tbody tr th:only-of-type {\n",
       "        vertical-align: middle;\n",
       "    }\n",
       "\n",
       "    .dataframe tbody tr th {\n",
       "        vertical-align: top;\n",
       "    }\n",
       "\n",
       "    .dataframe thead th {\n",
       "        text-align: right;\n",
       "    }\n",
       "</style>\n",
       "<table border=\"1\" class=\"dataframe\">\n",
       "  <thead>\n",
       "    <tr style=\"text-align: right;\">\n",
       "      <th></th>\n",
       "      <th>Age</th>\n",
       "      <th>Scholarship</th>\n",
       "      <th>Hipertension</th>\n",
       "      <th>Diabetes</th>\n",
       "      <th>Alcoholism</th>\n",
       "      <th>Handcap</th>\n",
       "      <th>SMS_received</th>\n",
       "    </tr>\n",
       "  </thead>\n",
       "  <tbody>\n",
       "    <tr>\n",
       "      <th>count</th>\n",
       "      <td>110527.000000</td>\n",
       "      <td>110527.000000</td>\n",
       "      <td>110527.000000</td>\n",
       "      <td>110527.000000</td>\n",
       "      <td>110527.000000</td>\n",
       "      <td>110527.000000</td>\n",
       "      <td>110527.000000</td>\n",
       "    </tr>\n",
       "    <tr>\n",
       "      <th>mean</th>\n",
       "      <td>37.088874</td>\n",
       "      <td>0.098266</td>\n",
       "      <td>0.197246</td>\n",
       "      <td>0.071865</td>\n",
       "      <td>0.030400</td>\n",
       "      <td>0.022248</td>\n",
       "      <td>0.321026</td>\n",
       "    </tr>\n",
       "    <tr>\n",
       "      <th>std</th>\n",
       "      <td>23.110205</td>\n",
       "      <td>0.297675</td>\n",
       "      <td>0.397921</td>\n",
       "      <td>0.258265</td>\n",
       "      <td>0.171686</td>\n",
       "      <td>0.161543</td>\n",
       "      <td>0.466873</td>\n",
       "    </tr>\n",
       "    <tr>\n",
       "      <th>min</th>\n",
       "      <td>-1.000000</td>\n",
       "      <td>0.000000</td>\n",
       "      <td>0.000000</td>\n",
       "      <td>0.000000</td>\n",
       "      <td>0.000000</td>\n",
       "      <td>0.000000</td>\n",
       "      <td>0.000000</td>\n",
       "    </tr>\n",
       "    <tr>\n",
       "      <th>25%</th>\n",
       "      <td>18.000000</td>\n",
       "      <td>0.000000</td>\n",
       "      <td>0.000000</td>\n",
       "      <td>0.000000</td>\n",
       "      <td>0.000000</td>\n",
       "      <td>0.000000</td>\n",
       "      <td>0.000000</td>\n",
       "    </tr>\n",
       "    <tr>\n",
       "      <th>50%</th>\n",
       "      <td>37.000000</td>\n",
       "      <td>0.000000</td>\n",
       "      <td>0.000000</td>\n",
       "      <td>0.000000</td>\n",
       "      <td>0.000000</td>\n",
       "      <td>0.000000</td>\n",
       "      <td>0.000000</td>\n",
       "    </tr>\n",
       "    <tr>\n",
       "      <th>75%</th>\n",
       "      <td>55.000000</td>\n",
       "      <td>0.000000</td>\n",
       "      <td>0.000000</td>\n",
       "      <td>0.000000</td>\n",
       "      <td>0.000000</td>\n",
       "      <td>0.000000</td>\n",
       "      <td>1.000000</td>\n",
       "    </tr>\n",
       "    <tr>\n",
       "      <th>max</th>\n",
       "      <td>115.000000</td>\n",
       "      <td>1.000000</td>\n",
       "      <td>1.000000</td>\n",
       "      <td>1.000000</td>\n",
       "      <td>1.000000</td>\n",
       "      <td>4.000000</td>\n",
       "      <td>1.000000</td>\n",
       "    </tr>\n",
       "  </tbody>\n",
       "</table>\n",
       "</div>"
      ],
      "text/plain": [
       "                 Age    Scholarship   Hipertension       Diabetes  \\\n",
       "count  110527.000000  110527.000000  110527.000000  110527.000000   \n",
       "mean       37.088874       0.098266       0.197246       0.071865   \n",
       "std        23.110205       0.297675       0.397921       0.258265   \n",
       "min        -1.000000       0.000000       0.000000       0.000000   \n",
       "25%        18.000000       0.000000       0.000000       0.000000   \n",
       "50%        37.000000       0.000000       0.000000       0.000000   \n",
       "75%        55.000000       0.000000       0.000000       0.000000   \n",
       "max       115.000000       1.000000       1.000000       1.000000   \n",
       "\n",
       "          Alcoholism        Handcap   SMS_received  \n",
       "count  110527.000000  110527.000000  110527.000000  \n",
       "mean        0.030400       0.022248       0.321026  \n",
       "std         0.171686       0.161543       0.466873  \n",
       "min         0.000000       0.000000       0.000000  \n",
       "25%         0.000000       0.000000       0.000000  \n",
       "50%         0.000000       0.000000       0.000000  \n",
       "75%         0.000000       0.000000       1.000000  \n",
       "max         1.000000       4.000000       1.000000  "
      ]
     },
     "execution_count": 10,
     "metadata": {},
     "output_type": "execute_result"
    }
   ],
   "source": [
    "df.iloc[:,2:].describe() # don't need summary statistics for patientId and appointmentID"
   ]
  },
  {
   "cell_type": "markdown",
   "metadata": {},
   "source": [
    "Notice that the minimum age is -1. Let's see if there are more than one patient with this value."
   ]
  },
  {
   "cell_type": "code",
   "execution_count": 11,
   "metadata": {
    "scrolled": true
   },
   "outputs": [
    {
     "data": {
      "text/html": [
       "<div>\n",
       "<style scoped>\n",
       "    .dataframe tbody tr th:only-of-type {\n",
       "        vertical-align: middle;\n",
       "    }\n",
       "\n",
       "    .dataframe tbody tr th {\n",
       "        vertical-align: top;\n",
       "    }\n",
       "\n",
       "    .dataframe thead th {\n",
       "        text-align: right;\n",
       "    }\n",
       "</style>\n",
       "<table border=\"1\" class=\"dataframe\">\n",
       "  <thead>\n",
       "    <tr style=\"text-align: right;\">\n",
       "      <th></th>\n",
       "      <th>PatientId</th>\n",
       "      <th>AppointmentID</th>\n",
       "      <th>Gender</th>\n",
       "      <th>ScheduledDay</th>\n",
       "      <th>AppointmentDay</th>\n",
       "      <th>Age</th>\n",
       "      <th>Neighbourhood</th>\n",
       "      <th>Scholarship</th>\n",
       "      <th>Hipertension</th>\n",
       "      <th>Diabetes</th>\n",
       "      <th>Alcoholism</th>\n",
       "      <th>Handcap</th>\n",
       "      <th>SMS_received</th>\n",
       "      <th>No-show</th>\n",
       "    </tr>\n",
       "  </thead>\n",
       "  <tbody>\n",
       "    <tr>\n",
       "      <th>99832</th>\n",
       "      <td>4.659432e+14</td>\n",
       "      <td>5775010</td>\n",
       "      <td>F</td>\n",
       "      <td>2016-06-06 08:58:13</td>\n",
       "      <td>2016-06-06</td>\n",
       "      <td>-1</td>\n",
       "      <td>ROMÃO</td>\n",
       "      <td>0</td>\n",
       "      <td>0</td>\n",
       "      <td>0</td>\n",
       "      <td>0</td>\n",
       "      <td>0</td>\n",
       "      <td>0</td>\n",
       "      <td>No</td>\n",
       "    </tr>\n",
       "  </tbody>\n",
       "</table>\n",
       "</div>"
      ],
      "text/plain": [
       "          PatientId  AppointmentID Gender        ScheduledDay AppointmentDay  \\\n",
       "99832  4.659432e+14        5775010      F 2016-06-06 08:58:13     2016-06-06   \n",
       "\n",
       "       Age Neighbourhood  Scholarship  Hipertension  Diabetes  Alcoholism  \\\n",
       "99832   -1         ROMÃO            0             0         0           0   \n",
       "\n",
       "       Handcap  SMS_received No-show  \n",
       "99832        0             0      No  "
      ]
     },
     "execution_count": 11,
     "metadata": {},
     "output_type": "execute_result"
    }
   ],
   "source": [
    "minAge = df['Age'].min()\n",
    "df.query('Age == @minAge') #get rows with negative age| got one row with a negative age."
   ]
  },
  {
   "cell_type": "markdown",
   "metadata": {},
   "source": [
    "There is only one patient with this value, and her appointment was on the same day it was scheduled which she attended. The age of this patient was probably not known. That might be why it was represented with a negative value. Since there is the only record with a negative age, we can drop it."
   ]
  },
  {
   "cell_type": "code",
   "execution_count": 12,
   "metadata": {},
   "outputs": [],
   "source": [
    "index_of_row_to_drop = df.query('Age == @minAge').index # save the index of the age with a negative value."
   ]
  },
  {
   "cell_type": "markdown",
   "metadata": {},
   "source": [
    "### Data Cleaning"
   ]
  },
  {
   "cell_type": "markdown",
   "metadata": {},
   "source": [
    "First, let's drop the row with the negative age."
   ]
  },
  {
   "cell_type": "code",
   "execution_count": 13,
   "metadata": {},
   "outputs": [],
   "source": [
    "df.drop(index=index_of_row_to_drop, inplace=True) # get rid of outlier"
   ]
  },
  {
   "cell_type": "code",
   "execution_count": 14,
   "metadata": {
    "scrolled": true
   },
   "outputs": [
    {
     "data": {
      "text/plain": [
       "count    110526.000000\n",
       "mean         37.089219\n",
       "std          23.110026\n",
       "min           0.000000\n",
       "25%          18.000000\n",
       "50%          37.000000\n",
       "75%          55.000000\n",
       "max         115.000000\n",
       "Name: Age, dtype: float64"
      ]
     },
     "execution_count": 14,
     "metadata": {},
     "output_type": "execute_result"
    }
   ],
   "source": [
    "df['Age'].describe() # check if the negative age record has been removed."
   ]
  },
  {
   "cell_type": "code",
   "execution_count": 15,
   "metadata": {},
   "outputs": [
    {
     "data": {
      "text/plain": [
       "110526"
      ]
     },
     "execution_count": 15,
     "metadata": {},
     "output_type": "execute_result"
    }
   ],
   "source": [
    "df.shape[0]"
   ]
  },
  {
   "cell_type": "markdown",
   "metadata": {},
   "source": [
    "We now have 110526 appointments. Next, we will change the data type of the PatientId column. Let's see why we need to do this."
   ]
  },
  {
   "cell_type": "code",
   "execution_count": 16,
   "metadata": {
    "scrolled": false
   },
   "outputs": [
    {
     "data": {
      "text/html": [
       "<div>\n",
       "<style scoped>\n",
       "    .dataframe tbody tr th:only-of-type {\n",
       "        vertical-align: middle;\n",
       "    }\n",
       "\n",
       "    .dataframe tbody tr th {\n",
       "        vertical-align: top;\n",
       "    }\n",
       "\n",
       "    .dataframe thead th {\n",
       "        text-align: right;\n",
       "    }\n",
       "</style>\n",
       "<table border=\"1\" class=\"dataframe\">\n",
       "  <thead>\n",
       "    <tr style=\"text-align: right;\">\n",
       "      <th></th>\n",
       "      <th>PatientId</th>\n",
       "      <th>AppointmentID</th>\n",
       "      <th>Gender</th>\n",
       "      <th>ScheduledDay</th>\n",
       "      <th>AppointmentDay</th>\n",
       "      <th>Age</th>\n",
       "      <th>Neighbourhood</th>\n",
       "      <th>Scholarship</th>\n",
       "      <th>Hipertension</th>\n",
       "      <th>Diabetes</th>\n",
       "      <th>Alcoholism</th>\n",
       "      <th>Handcap</th>\n",
       "      <th>SMS_received</th>\n",
       "      <th>No-show</th>\n",
       "    </tr>\n",
       "  </thead>\n",
       "  <tbody>\n",
       "  </tbody>\n",
       "</table>\n",
       "</div>"
      ],
      "text/plain": [
       "Empty DataFrame\n",
       "Columns: [PatientId, AppointmentID, Gender, ScheduledDay, AppointmentDay, Age, Neighbourhood, Scholarship, Hipertension, Diabetes, Alcoholism, Handcap, SMS_received, No-show]\n",
       "Index: []"
      ]
     },
     "execution_count": 16,
     "metadata": {},
     "output_type": "execute_result"
    }
   ],
   "source": [
    "df.query('PatientId == 2.987250e+13') # problem with making logical queries with id as float."
   ]
  },
  {
   "cell_type": "markdown",
   "metadata": {},
   "source": [
    "The above query didn't give us the expected result because we made float comparisons. To fix this, we will need to change the data type of the PatientId column to the string data type."
   ]
  },
  {
   "cell_type": "code",
   "execution_count": 17,
   "metadata": {},
   "outputs": [],
   "source": [
    "# Convert PatientId to string\n",
    "\n",
    "df['PatientId'] = df.PatientId.astype(str)\n",
    "df['PatientId'] = df['PatientId'].apply(lambda x: x.rstrip(\".0\"))"
   ]
  },
  {
   "cell_type": "markdown",
   "metadata": {},
   "source": [
    "Let's try the query again."
   ]
  },
  {
   "cell_type": "code",
   "execution_count": 18,
   "metadata": {
    "scrolled": false
   },
   "outputs": [
    {
     "data": {
      "text/html": [
       "<div>\n",
       "<style scoped>\n",
       "    .dataframe tbody tr th:only-of-type {\n",
       "        vertical-align: middle;\n",
       "    }\n",
       "\n",
       "    .dataframe tbody tr th {\n",
       "        vertical-align: top;\n",
       "    }\n",
       "\n",
       "    .dataframe thead th {\n",
       "        text-align: right;\n",
       "    }\n",
       "</style>\n",
       "<table border=\"1\" class=\"dataframe\">\n",
       "  <thead>\n",
       "    <tr style=\"text-align: right;\">\n",
       "      <th></th>\n",
       "      <th>PatientId</th>\n",
       "      <th>AppointmentID</th>\n",
       "      <th>Gender</th>\n",
       "      <th>ScheduledDay</th>\n",
       "      <th>AppointmentDay</th>\n",
       "      <th>Age</th>\n",
       "      <th>Neighbourhood</th>\n",
       "      <th>Scholarship</th>\n",
       "      <th>Hipertension</th>\n",
       "      <th>Diabetes</th>\n",
       "      <th>Alcoholism</th>\n",
       "      <th>Handcap</th>\n",
       "      <th>SMS_received</th>\n",
       "      <th>No-show</th>\n",
       "    </tr>\n",
       "  </thead>\n",
       "  <tbody>\n",
       "    <tr>\n",
       "      <th>0</th>\n",
       "      <td>2.98724998243e+13</td>\n",
       "      <td>5642903</td>\n",
       "      <td>F</td>\n",
       "      <td>2016-04-29 18:38:08</td>\n",
       "      <td>2016-04-29</td>\n",
       "      <td>62</td>\n",
       "      <td>JARDIM DA PENHA</td>\n",
       "      <td>0</td>\n",
       "      <td>1</td>\n",
       "      <td>0</td>\n",
       "      <td>0</td>\n",
       "      <td>0</td>\n",
       "      <td>0</td>\n",
       "      <td>No</td>\n",
       "    </tr>\n",
       "    <tr>\n",
       "      <th>1157</th>\n",
       "      <td>2.98724998243e+13</td>\n",
       "      <td>5639907</td>\n",
       "      <td>F</td>\n",
       "      <td>2016-04-29 09:47:47</td>\n",
       "      <td>2016-04-29</td>\n",
       "      <td>62</td>\n",
       "      <td>JARDIM DA PENHA</td>\n",
       "      <td>0</td>\n",
       "      <td>1</td>\n",
       "      <td>0</td>\n",
       "      <td>0</td>\n",
       "      <td>0</td>\n",
       "      <td>0</td>\n",
       "      <td>No</td>\n",
       "    </tr>\n",
       "  </tbody>\n",
       "</table>\n",
       "</div>"
      ],
      "text/plain": [
       "              PatientId  AppointmentID Gender        ScheduledDay  \\\n",
       "0     2.98724998243e+13        5642903      F 2016-04-29 18:38:08   \n",
       "1157  2.98724998243e+13        5639907      F 2016-04-29 09:47:47   \n",
       "\n",
       "     AppointmentDay  Age    Neighbourhood  Scholarship  Hipertension  \\\n",
       "0        2016-04-29   62  JARDIM DA PENHA            0             1   \n",
       "1157     2016-04-29   62  JARDIM DA PENHA            0             1   \n",
       "\n",
       "      Diabetes  Alcoholism  Handcap  SMS_received No-show  \n",
       "0            0           0        0             0      No  \n",
       "1157         0           0        0             0      No  "
      ]
     },
     "execution_count": 18,
     "metadata": {},
     "output_type": "execute_result"
    }
   ],
   "source": [
    "df.query('PatientId == \"2.98724998243e+13\"')"
   ]
  },
  {
   "cell_type": "markdown",
   "metadata": {},
   "source": [
    "Now the query works as expected. Finally, we will rename the No-show and Hipertension columns."
   ]
  },
  {
   "cell_type": "code",
   "execution_count": 19,
   "metadata": {},
   "outputs": [],
   "source": [
    "df.rename(columns={'No-show': 'No_show', 'Hipertension': 'Hypertension'}, inplace=True)"
   ]
  },
  {
   "cell_type": "code",
   "execution_count": 20,
   "metadata": {
    "scrolled": true
   },
   "outputs": [
    {
     "data": {
      "text/plain": [
       "Index(['PatientId', 'AppointmentID', 'Gender', 'ScheduledDay',\n",
       "       'AppointmentDay', 'Age', 'Neighbourhood', 'Scholarship', 'Hypertension',\n",
       "       'Diabetes', 'Alcoholism', 'Handcap', 'SMS_received', 'No_show'],\n",
       "      dtype='object')"
      ]
     },
     "execution_count": 20,
     "metadata": {},
     "output_type": "execute_result"
    }
   ],
   "source": [
    "df.columns"
   ]
  },
  {
   "cell_type": "markdown",
   "metadata": {},
   "source": [
    "Finally, we will replace the \"Yes\" value with 1 and the \"No\" value with 0 in the No_show column."
   ]
  },
  {
   "cell_type": "code",
   "execution_count": 21,
   "metadata": {},
   "outputs": [
    {
     "data": {
      "text/plain": [
       "0    88207\n",
       "1    22319\n",
       "Name: No_show, dtype: int64"
      ]
     },
     "execution_count": 21,
     "metadata": {},
     "output_type": "execute_result"
    }
   ],
   "source": [
    "df['No_show'] = df['No_show'].apply(lambda x: 1 if x==\"Yes\" else 0)\n",
    "\n",
    "df['No_show'].value_counts()"
   ]
  },
  {
   "cell_type": "markdown",
   "metadata": {},
   "source": [
    "<a id='eda'></a>\n",
    "## Exploratory Data Analysis\n",
    "\n",
    "In this section, we will try to answer the questions posed in the introduction section by carrying out some exploratory data analysis on our data set. Let's begin with the first question.\n",
    "\n",
    "\n",
    "### Are patients less likely to show up if they made several appointments?"
   ]
  },
  {
   "cell_type": "markdown",
   "metadata": {},
   "source": [
    "To answer this question, we will compare the proportions of patients with a single appointment and those with more than one appointments that didn't show up. We will also compare the number of patients that fall in each of these categories in each month."
   ]
  },
  {
   "cell_type": "code",
   "execution_count": 22,
   "metadata": {},
   "outputs": [
    {
     "data": {
      "text/plain": [
       "62298"
      ]
     },
     "execution_count": 22,
     "metadata": {},
     "output_type": "execute_result"
    }
   ],
   "source": [
    "# number of unique patients\n",
    "\n",
    "df.PatientId.unique().shape[0]"
   ]
  },
  {
   "cell_type": "code",
   "execution_count": 23,
   "metadata": {
    "scrolled": true
   },
   "outputs": [
    {
     "data": {
      "text/plain": [
       "8.22145925426e+14    88\n",
       "99637671331          84\n",
       "2.68861259211e+13    70\n",
       "3.35347834832e+13    65\n",
       "7.57974614942e+13    62\n",
       "Name: PatientId, dtype: int64"
      ]
     },
     "execution_count": 23,
     "metadata": {},
     "output_type": "execute_result"
    }
   ],
   "source": [
    "# patients with more than one appointments\n",
    "\n",
    "df_mul_app = df[df['PatientId'].duplicated(keep=False)]\n",
    "\n",
    "df_mul_app['PatientId'].value_counts().head()"
   ]
  },
  {
   "cell_type": "code",
   "execution_count": 24,
   "metadata": {},
   "outputs": [
    {
     "data": {
      "text/plain": [
       "1.63417962643e+14    1\n",
       "3.86635699479e+12    1\n",
       "7.82145292396e+14    1\n",
       "6.48366747414e+12    1\n",
       "5.45719675936e+12    1\n",
       "Name: PatientId, dtype: int64"
      ]
     },
     "execution_count": 24,
     "metadata": {},
     "output_type": "execute_result"
    }
   ],
   "source": [
    "# patients with one appointment\n",
    "\n",
    "df_one_app = df[df['PatientId'].duplicated(keep=False)==False]\n",
    "\n",
    "df_one_app['PatientId'].value_counts().head()"
   ]
  },
  {
   "cell_type": "code",
   "execution_count": 25,
   "metadata": {
    "scrolled": false
   },
   "outputs": [
    {
     "name": "stdout",
     "output_type": "stream",
     "text": [
      "Number of unique patients with multiple appointments: 24379\n",
      "Number of patients with a single appointment: 37919\n"
     ]
    }
   ],
   "source": [
    "print(f'Number of unique patients with multiple appointments: {df_mul_app.PatientId.nunique()}')\n",
    "print(f'Number of patients with a single appointment: {df_one_app.shape[0]}')"
   ]
  },
  {
   "cell_type": "markdown",
   "metadata": {},
   "source": [
    "There are 62298 unique patients out of which 37919 had one appointment while 24379 had more than one. As we can see, there are less patients that had more than one appointments."
   ]
  },
  {
   "cell_type": "code",
   "execution_count": 28,
   "metadata": {},
   "outputs": [
    {
     "data": {
      "text/plain": [
       "17663"
      ]
     },
     "execution_count": 28,
     "metadata": {},
     "output_type": "execute_result"
    }
   ],
   "source": [
    "# Get the total number of unique patients that showed up\n",
    "no_show_up = 'No_show==1'\n",
    "\n",
    "no_show = df.query(f'{no_show_up}').PatientId.unique() \n",
    "no_show.shape[0]"
   ]
  },
  {
   "cell_type": "code",
   "execution_count": 29,
   "metadata": {},
   "outputs": [
    {
     "data": {
      "text/plain": [
       "0.4029892996659684"
      ]
     },
     "execution_count": 29,
     "metadata": {},
     "output_type": "execute_result"
    }
   ],
   "source": [
    "# Get the proportion of patients with one appointments and no show ups\n",
    "\n",
    "prop_one_app_no_show = df_one_app[df_one_app['No_show']==1].PatientId.unique()\n",
    "prop_one_app_no_show = prop_one_app_no_show.shape[0]/no_show.shape[0]\n",
    "prop_one_app_no_show"
   ]
  },
  {
   "cell_type": "code",
   "execution_count": 30,
   "metadata": {},
   "outputs": [
    {
     "data": {
      "text/plain": [
       "0.5970107003340316"
      ]
     },
     "execution_count": 30,
     "metadata": {},
     "output_type": "execute_result"
    }
   ],
   "source": [
    "# Get the proportion of patients with multiple appointments and no show ups\n",
    "\n",
    "unique_df_mul_app = df_mul_app.query(f'{no_show_up}').PatientId.unique()\n",
    "prop_mul_app_no_show = unique_df_mul_app.shape[0]/no_show.shape[0]\n",
    "prop_mul_app_no_show"
   ]
  },
  {
   "cell_type": "markdown",
   "metadata": {},
   "source": [
    "It turns out that about 40% of patients that had one appointment didn't show up. On the other hand, about 60% of those that had more than one appointment didn't show up. Let's visualize this using a bar chart."
   ]
  },
  {
   "cell_type": "code",
   "execution_count": 31,
   "metadata": {
    "scrolled": true
   },
   "outputs": [
    {
     "data": {
      "image/png": "[encoded data removed]",
      "text/plain": [
       "<matplotlib.figure.Figure at 0x7f92de638748>"
      ]
     },
     "metadata": {
      "needs_background": "light"
     },
     "output_type": "display_data"
    }
   ],
   "source": [
    "# plot bar chart of relative proportions of patients with a single appointment and those with more than one\n",
    "# who didn't show up.\n",
    "\n",
    "proportions = {'Single appointment': prop_one_app_no_show, 'Multiple appointments': prop_mul_app_no_show}\n",
    "title = \"Proportion of patients that didn't show up base on number of appointments\"\n",
    "plot_proportions(proportions, title) # plots the proportions on a bar chart."
   ]
  },
  {
   "cell_type": "markdown",
   "metadata": {},
   "source": [
    "Let's analyse the number of patients that didn't show up for each month base on whether they had a single or multiple appointments. Let's see how many months of appointment records were collected in 2016."
   ]
  },
  {
   "cell_type": "code",
   "execution_count": 32,
   "metadata": {
    "scrolled": true
   },
   "outputs": [
    {
     "data": {
      "text/plain": [
       "AppointmentDay\n",
       "4     3235\n",
       "5    80841\n",
       "6    26450\n",
       "Name: AppointmentID, dtype: int64"
      ]
     },
     "execution_count": 32,
     "metadata": {},
     "output_type": "execute_result"
    }
   ],
   "source": [
    "# number of appointments grouped by month\n",
    "\n",
    "num_of_app_in_each_month = df.groupby(df.AppointmentDay.dt.month)['AppointmentID'].count()\n",
    "\n",
    "num_of_app_in_each_month"
   ]
  },
  {
   "cell_type": "markdown",
   "metadata": {},
   "source": [
    "Looks like we only have 3 months of data – April, May, and June. Let's get the number of patients with multiple appointments that didn't show up for each of these months."
   ]
  },
  {
   "cell_type": "code",
   "execution_count": 33,
   "metadata": {
    "scrolled": false
   },
   "outputs": [],
   "source": [
    "# get unique patients with multiple appointments that didn't show up\n",
    "# grouped by month\n",
    "mul_app_no_show = df_mul_app.query(f\"{no_show_up}\")\n",
    "\n",
    "unique_patients_with_mul_app = mul_app_no_show[mul_app_no_show['PatientId'].duplicated()==False]\n",
    "\n",
    "mul_app_by_month = unique_patients_with_mul_app.groupby(\n",
    "    unique_patients_with_mul_app.AppointmentDay.dt.month)['AppointmentID'].count()"
   ]
  },
  {
   "cell_type": "markdown",
   "metadata": {},
   "source": [
    "Let's get those for patients with single appointments."
   ]
  },
  {
   "cell_type": "code",
   "execution_count": 34,
   "metadata": {
    "scrolled": true
   },
   "outputs": [],
   "source": [
    "# get unique patients with one appointment that didn't show up\n",
    "# grouped by month\n",
    "\n",
    "one_app_no_show = df_one_app.query(f\"{no_show_up}\")\n",
    "\n",
    "one_app_by_month = one_app_no_show.groupby(one_app_no_show.AppointmentDay.dt.month)['AppointmentID'].count()"
   ]
  },
  {
   "cell_type": "markdown",
   "metadata": {},
   "source": [
    "Let's visualize the patient count for each month in both cases."
   ]
  },
  {
   "cell_type": "code",
   "execution_count": 35,
   "metadata": {
    "scrolled": true
   },
   "outputs": [
    {
     "data": {
      "image/png": "[encoded data removed]",
      "text/plain": [
       "<matplotlib.figure.Figure at 0x7f92de568b70>"
      ]
     },
     "metadata": {
      "needs_background": "light"
     },
     "output_type": "display_data"
    }
   ],
   "source": [
    "# plot the data for each category of patients\n",
    "\n",
    "months = ['Apr', 'May', 'Jun']\n",
    "title=\"Number of patients that didn't show up grouped by month and number of appointments\"\n",
    "x_label=\"Month\"\n",
    "y_label=\"Number of Patients\"\n",
    "legend_labels=[\"Multiple Appointments\", \"One Appointment\"]\n",
    "plot_2d_bar_chart(months, mul_app_by_month, one_app_by_month, title, x_label, y_label, legend_labels)"
   ]
  },
  {
   "cell_type": "markdown",
   "metadata": {},
   "source": [
    "It looks like, for each month, there are more patients with multiple appointments that didn't show up. From our findings, **patients with multiple appointments are less likely to show up than those with a single appointment**. They probably rescheduled their appointments for another date which might be why they have multiple appointments recorded in the data set. It is also possible that the appointments where with two different doctors."
   ]
  },
  {
   "cell_type": "markdown",
   "metadata": {},
   "source": [
    "### Are patients less likely to show up if they don't suffer from any of the following cases: hypertension, diabetes, alcohol related problems, or a disability?"
   ]
  },
  {
   "cell_type": "markdown",
   "metadata": {},
   "source": [
    "To answer this question, we will find the total number of unique patients that didn't show up and compare the proportion of those that suffer from any of these cases with those that don't. We will also compare the number of patients that fall in each of these categories in each month. The total number of unique patients that didn't show up is already stored in the no_show variable."
   ]
  },
  {
   "cell_type": "code",
   "execution_count": 36,
   "metadata": {},
   "outputs": [],
   "source": [
    "# this query string will help us retrieve patients that don't suffer from any of the cases\n",
    "\n",
    "negative = '((Hypertension == 0) and \\\n",
    "             (Diabetes==0) and \\\n",
    "             (Alcoholism==0) and \\\n",
    "             (Handcap==0))'\n",
    "\n",
    "# get patients that don't suffer from any of these cases and didn't show up\n",
    "\n",
    "non_sufferer_no_show = df.query(f'{negative} and \\\n",
    "                        ({no_show_up})').PatientId.unique()\n",
    "\n",
    "# get patients that suffer from any of these cases and didn't show up\n",
    "\n",
    "sufferer_no_show = df.query(f'(not {negative}) and \\\n",
    "                     ({no_show_up})').PatientId.unique()"
   ]
  },
  {
   "cell_type": "code",
   "execution_count": 37,
   "metadata": {},
   "outputs": [
    {
     "name": "stdout",
     "output_type": "stream",
     "text": [
      "number of sufferers 3724\n",
      "number of non-sufferers 13939\n"
     ]
    }
   ],
   "source": [
    "print(f'number of sufferers {sufferer_no_show.shape[0]}')\n",
    "print(f'number of non-sufferers {non_sufferer_no_show.shape[0]}')"
   ]
  },
  {
   "cell_type": "markdown",
   "metadata": {},
   "source": [
    "There seem to be more patients that don't suffer from any of these cases than those that do. Let's find their proportions."
   ]
  },
  {
   "cell_type": "code",
   "execution_count": 38,
   "metadata": {
    "scrolled": true
   },
   "outputs": [
    {
     "name": "stdout",
     "output_type": "stream",
     "text": [
      "Proportion of patients that suffer from these cases: 0.2108362112891355\n",
      "Proportion of patients that don't suffer from these cases: 0.7891637887108646\n"
     ]
    }
   ],
   "source": [
    "# find the proportion of patients that suffer from these cases and those that don't but didn't show up\n",
    "\n",
    "prop_sufferer_no_show = sufferer_no_show.shape[0]/no_show.shape[0]\n",
    "prop_non_sufferer_no_show = non_sufferer_no_show.shape[0]/no_show.shape[0]\n",
    "\n",
    "print(f\"Proportion of patients that suffer from these cases: {prop_sufferer_no_show}\")\n",
    "print(f\"Proportion of patients that don't suffer from these cases: {prop_non_sufferer_no_show}\")"
   ]
  },
  {
   "cell_type": "markdown",
   "metadata": {},
   "source": [
    "About 21% of the patients that didn't show up suffer from one of these cases while about 79% of them don't. Let's visualize this in a bar chart."
   ]
  },
  {
   "cell_type": "code",
   "execution_count": 39,
   "metadata": {
    "scrolled": true
   },
   "outputs": [
    {
     "data": {
      "image/png": "[encoded data removed]",
      "text/plain": [
       "<matplotlib.figure.Figure at 0x7f92de59d320>"
      ]
     },
     "metadata": {
      "needs_background": "light"
     },
     "output_type": "display_data"
    }
   ],
   "source": [
    "# plot relative proportion of patients that don't show up based on whether they suffer from any of the\n",
    "# health challenges or not.\n",
    "\n",
    "proportions = {'Sufferer': prop_sufferer_no_show, 'Non sufferer': prop_non_sufferer_no_show}\n",
    "title=\"Proportion of patients that didn't show up\"\n",
    "\n",
    "plot_proportions(proportions, title)"
   ]
  },
  {
   "cell_type": "markdown",
   "metadata": {},
   "source": [
    "Let's analyse the number of patients that didn't show up for each month base on whether they suffer from any of the health conditions or not. Let's first get the unique patients that didn't show up from our data set."
   ]
  },
  {
   "cell_type": "code",
   "execution_count": 40,
   "metadata": {},
   "outputs": [],
   "source": [
    "# get unique patients that didn't show up from the entire data set.\n",
    "\n",
    "unique_patients_no_show = df.query(f\"{no_show_up}\")\n",
    "unique_patients_no_show = unique_patients_no_show[unique_patients_no_show['PatientId'].duplicated()==False]"
   ]
  },
  {
   "cell_type": "markdown",
   "metadata": {},
   "source": [
    "Now, let's get the number patients that suffer from any of the health conditions for each month."
   ]
  },
  {
   "cell_type": "code",
   "execution_count": 41,
   "metadata": {},
   "outputs": [],
   "source": [
    "# get number of patients with any of the health conditions for each month\n",
    "sufferer = unique_patients_no_show.query(f'not ({negative})')\n",
    "sufferer_by_month = sufferer.groupby(sufferer.AppointmentDay.dt.month)['AppointmentID'].count()"
   ]
  },
  {
   "cell_type": "code",
   "execution_count": 42,
   "metadata": {
    "scrolled": false
   },
   "outputs": [],
   "source": [
    "# get number of patients without any of the health conditions for each month\n",
    "\n",
    "non_sufferer = unique_patients_no_show.query(f'({negative})')\n",
    "non_sufferer_by_month = non_sufferer.groupby(non_sufferer.AppointmentDay.dt.month)['AppointmentID'].count()"
   ]
  },
  {
   "cell_type": "markdown",
   "metadata": {},
   "source": [
    "Let's compare the counts for each month in a plot."
   ]
  },
  {
   "cell_type": "code",
   "execution_count": 43,
   "metadata": {},
   "outputs": [
    {
     "data": {
      "image/png": "[encoded data removed]",
      "text/plain": [
       "<matplotlib.figure.Figure at 0x7f92de582a90>"
      ]
     },
     "metadata": {
      "needs_background": "light"
     },
     "output_type": "display_data"
    }
   ],
   "source": [
    "# plot the data for each category of patients\n",
    "\n",
    "title=\"Number of patients that didn't show up grouped by month and whether they suffer from any of the health conditions\"\n",
    "x_label=\"Month\"\n",
    "y_label=\"Number of Patients\"\n",
    "legend_labels=[\"Sufferer\", \"Non-sufferer\"]\n",
    "plot_2d_bar_chart(months, sufferer_by_month, non_sufferer_by_month, title, x_label, y_label, legend_labels)"
   ]
  },
  {
   "cell_type": "markdown",
   "metadata": {},
   "source": [
    "It looks like the trend is that **patients who do not suffer from any of the health conditions are less likely to show up for their appointments.**"
   ]
  },
  {
   "cell_type": "markdown",
   "metadata": {},
   "source": [
    "### Are patients less likely to show up if they have a scholarship and suffer from any of the following cases: hypertension, diabetes, alcohol related problems, or a disability?"
   ]
  },
  {
   "cell_type": "markdown",
   "metadata": {},
   "source": [
    "To answer this question, we will compare the proportion of patients who suffer from any of these cases and have a scholarship with that of patients who suffer from any of these cases without one. We will also compare the number of patients that fall in each of these categories in each month. The total number of patients that suffer from these cases and didn't show up is stored in the variable sufferer_no_show from our previous analysis. The variable negative will also come in handy for constructing our queries."
   ]
  },
  {
   "cell_type": "code",
   "execution_count": 44,
   "metadata": {},
   "outputs": [],
   "source": [
    "# get patients with scholarship and those without one.\n",
    "\n",
    "has_scholarship = '(Scholarship == 1)'\n",
    "\n",
    "scholarship = df.query('(not {0}) and {1} and \\\n",
    "                     (No_show == 1)'.format(negative, has_scholarship)).PatientId.unique()\n",
    "no_scholarship = df.query('(not {0}) and (not {1}) and \\\n",
    "                     (No_show == 1)'.format(negative, has_scholarship)).PatientId.unique()"
   ]
  },
  {
   "cell_type": "code",
   "execution_count": 45,
   "metadata": {
    "scrolled": true
   },
   "outputs": [
    {
     "name": "stdout",
     "output_type": "stream",
     "text": [
      "Proportion of patients with scholarship: 0.109828141783029\n",
      "Proportion of patients without one: 0.890171858216971\n"
     ]
    }
   ],
   "source": [
    "# proportion of patients with scholarship and those without one.\n",
    "\n",
    "prop_with_scholarship = scholarship.shape[0]/sufferer_no_show.shape[0]\n",
    "prop_without_scholarship = no_scholarship.shape[0]/sufferer_no_show.shape[0]\n",
    "print(f\"Proportion of patients with scholarship: {prop_with_scholarship}\")\n",
    "print(f\"Proportion of patients without one: {prop_without_scholarship}\")"
   ]
  },
  {
   "cell_type": "markdown",
   "metadata": {},
   "source": [
    "About 11% of the patients that suffer from any of the health problems and have a scholarship didn't show up, but 89% of those without a scholarship didn't show up."
   ]
  },
  {
   "cell_type": "code",
   "execution_count": 46,
   "metadata": {
    "scrolled": true
   },
   "outputs": [
    {
     "data": {
      "image/png": "[encoded data removed]",
      "text/plain": [
       "<matplotlib.figure.Figure at 0x7f92de4a8e48>"
      ]
     },
     "metadata": {
      "needs_background": "light"
     },
     "output_type": "display_data"
    }
   ],
   "source": [
    "# plot the proportion of patients with scholarship and those without\n",
    "\n",
    "proportions = {'Sufferer with scholarship': prop_with_scholarship, \n",
    "               'Sufferer without scholarship': prop_without_scholarship}\n",
    "title = \"Proportion of sufferers with and without scholarships but no shows\"\n",
    "\n",
    "plot_proportions(proportions, title)"
   ]
  },
  {
   "cell_type": "markdown",
   "metadata": {},
   "source": [
    "Let's analyse the number of patients that didn't show up for each month if they suffer from any of the health conditions and have a scholarship. The sufferer variable already stores unique records of patients that suffer from any of the conditions but didn't show up."
   ]
  },
  {
   "cell_type": "code",
   "execution_count": 47,
   "metadata": {
    "scrolled": true
   },
   "outputs": [],
   "source": [
    "# get number of sufferers with scholarship for each month\n",
    "\n",
    "sufferer_with_scholarship = sufferer.query(f'{has_scholarship}')\n",
    "num_with_scholarship_per_month = sufferer_with_scholarship.groupby(\n",
    "    sufferer_with_scholarship.AppointmentDay.dt.month)['AppointmentID'].count()"
   ]
  },
  {
   "cell_type": "code",
   "execution_count": 48,
   "metadata": {
    "scrolled": true
   },
   "outputs": [],
   "source": [
    "# get number of sufferers without a scholarship for each month\n",
    "\n",
    "sufferer_without_scholarship = sufferer.query(f'not {has_scholarship}')\n",
    "num_without_scholarship_per_month = sufferer_without_scholarship.groupby(\n",
    "    sufferer_without_scholarship.AppointmentDay.dt.month)['AppointmentID'].count()"
   ]
  },
  {
   "cell_type": "markdown",
   "metadata": {},
   "source": [
    "Let's compare the counts for both cases in a plot."
   ]
  },
  {
   "cell_type": "code",
   "execution_count": 49,
   "metadata": {},
   "outputs": [
    {
     "data": {
      "image/png": "[encoded data removed]",
      "text/plain": [
       "<matplotlib.figure.Figure at 0x7f92de4516d8>"
      ]
     },
     "metadata": {
      "needs_background": "light"
     },
     "output_type": "display_data"
    }
   ],
   "source": [
    "# plot the data for each category of patients\n",
    "\n",
    "title=\"\"\"Number of patients that suffer from any of the health conditions that didn't show up grouped by month\n",
    "and whether they have a scholarship\"\"\"\n",
    "x_label=\"Month\"\n",
    "y_label=\"Number of Patients\"\n",
    "legend_labels=[\"With scholarship\", \"Without scholarship\"]\n",
    "plot_2d_bar_chart(months, num_with_scholarship_per_month,\n",
    "                  num_without_scholarship_per_month, title, x_label, y_label, legend_labels)"
   ]
  },
  {
   "cell_type": "markdown",
   "metadata": {},
   "source": [
    "It looks like there is also a trend that **patients that suffer from any of the health conditions without a scholarship are less likely to show up for their appointments.**"
   ]
  },
  {
   "cell_type": "markdown",
   "metadata": {},
   "source": [
    "### Are patients less likely to show up if they receive an SMS?"
   ]
  },
  {
   "cell_type": "markdown",
   "metadata": {},
   "source": [
    "To answer this question, we will compare the proportion of patients that received an SMS but didn't show up with those that did not receive one and didn't show up. We will also compare the number of patients that fall in each of these categories in each month."
   ]
  },
  {
   "cell_type": "code",
   "execution_count": 50,
   "metadata": {},
   "outputs": [],
   "source": [
    "# get patients that didn't show up but received an sms and those that didn't\n",
    "pos_sms_condition = 'SMS_received==1'\n",
    "neg_sms_condition = 'SMS_received==0'\n",
    "\n",
    "received_sms_no_show = unique_patients_no_show.query(f'({pos_sms_condition})')\n",
    "received_no_sms_no_show = unique_patients_no_show.query(f'({neg_sms_condition})')"
   ]
  },
  {
   "cell_type": "code",
   "execution_count": 51,
   "metadata": {},
   "outputs": [],
   "source": [
    "# compute their proportions\n",
    "total = received_sms_no_show.shape[0] + received_no_sms_no_show.shape[0]\n",
    "\n",
    "prop_received_sms = received_sms_no_show.shape[0]/total\n",
    "prop_received_no_sms = received_no_sms_no_show.shape[0]/total"
   ]
  },
  {
   "cell_type": "code",
   "execution_count": 52,
   "metadata": {
    "scrolled": false
   },
   "outputs": [
    {
     "data": {
      "image/png": "[encoded data removed]",
      "text/plain": [
       "<matplotlib.figure.Figure at 0x7f92de4021d0>"
      ]
     },
     "metadata": {
      "needs_background": "light"
     },
     "output_type": "display_data"
    }
   ],
   "source": [
    "# plot their proportions on a bar chart\n",
    "\n",
    "proportions = {'Received SMS': prop_received_sms, \n",
    "               'Received no SMS': prop_received_no_sms}\n",
    "title = \"Proportion of patients with no shows\"\n",
    "\n",
    "plot_proportions(proportions, title)"
   ]
  },
  {
   "cell_type": "markdown",
   "metadata": {},
   "source": [
    "Next, let's analyse the number of patients that didn't show up for each month base on whether they received an SMS or not."
   ]
  },
  {
   "cell_type": "code",
   "execution_count": 53,
   "metadata": {
    "scrolled": true
   },
   "outputs": [],
   "source": [
    "# get number of patients that received sms but didn't show up for each month\n",
    "\n",
    "received_sms = unique_patients_no_show.query(f\"{pos_sms_condition}\")\n",
    "num_received_sms_per_month = received_sms.groupby(received_sms.AppointmentDay.dt.month)['AppointmentID'].count()"
   ]
  },
  {
   "cell_type": "code",
   "execution_count": 54,
   "metadata": {
    "scrolled": false
   },
   "outputs": [],
   "source": [
    "# get number of patients that didn't receive an sms and didn't show up for each month\n",
    "\n",
    "received_no_sms = unique_patients_no_show.query(f\"{neg_sms_condition}\")\n",
    "num_received_no_sms_per_month = received_no_sms.groupby(received_no_sms.AppointmentDay.dt.month)['AppointmentID'].count()"
   ]
  },
  {
   "cell_type": "markdown",
   "metadata": {},
   "source": [
    "Let's compare both data in a plot."
   ]
  },
  {
   "cell_type": "code",
   "execution_count": 55,
   "metadata": {
    "scrolled": true
   },
   "outputs": [
    {
     "data": {
      "image/png": "[encoded data removed]",
      "text/plain": [
       "<matplotlib.figure.Figure at 0x7f92de369be0>"
      ]
     },
     "metadata": {
      "needs_background": "light"
     },
     "output_type": "display_data"
    }
   ],
   "source": [
    "# plot the data for each category of patients\n",
    "\n",
    "title=\"\"\"Number of patients that didn't show up grouped by month and whether they received an SMS\"\"\"\n",
    "x_label=\"Month\"\n",
    "y_label=\"Number of Patients\"\n",
    "legend_labels=[\"Received an SMS\", \"Didn't receive an SMS\"]\n",
    "plot_2d_bar_chart(months, num_received_sms_per_month,\n",
    "                  num_received_no_sms_per_month, title, x_label, y_label, legend_labels)"
   ]
  },
  {
   "cell_type": "markdown",
   "metadata": {},
   "source": [
    "It looks like patients who received an SMS didn't show up more in April and June. There seem to be no trend here. So, **we can't conclude that patients that didn't receive an SMS are less likely to show up compared to those that did.**"
   ]
  },
  {
   "cell_type": "markdown",
   "metadata": {},
   "source": [
    "### Are male patients less likely to show up than female patients?"
   ]
  },
  {
   "cell_type": "markdown",
   "metadata": {},
   "source": [
    "To answer this question, we will compare the proportion of male and female patients that didn't show up. We will also compare the number of patients that fall in each of these categories in each month."
   ]
  },
  {
   "cell_type": "code",
   "execution_count": 56,
   "metadata": {},
   "outputs": [],
   "source": [
    "# get male and female patients that didn't show up\n",
    "\n",
    "males_no_show = df.query('(Gender==\"M\") and (No_show==1)').PatientId.unique()\n",
    "females_no_show = df.query('(Gender==\"F\") and (No_show==1)').PatientId.unique()"
   ]
  },
  {
   "cell_type": "code",
   "execution_count": 57,
   "metadata": {},
   "outputs": [],
   "source": [
    "# compute their relative proportions\n",
    "\n",
    "prop_males_no_show = males_no_show.shape[0]/no_show.shape[0]\n",
    "prop_females_no_show = females_no_show.shape[0]/no_show.shape[0]"
   ]
  },
  {
   "cell_type": "code",
   "execution_count": 58,
   "metadata": {
    "scrolled": false
   },
   "outputs": [
    {
     "data": {
      "image/png": "[encoded data removed]",
      "text/plain": [
       "<matplotlib.figure.Figure at 0x7f92de33fb38>"
      ]
     },
     "metadata": {
      "needs_background": "light"
     },
     "output_type": "display_data"
    }
   ],
   "source": [
    "# plot their proportions on a bar chart\n",
    "\n",
    "proportions = {'Males': prop_males_no_show, \n",
    "               'Females': prop_females_no_show}\n",
    "title = \"Proportion of male and female patients that didn't show up\"\n",
    "\n",
    "plot_proportions(proportions, title)"
   ]
  },
  {
   "cell_type": "markdown",
   "metadata": {},
   "source": [
    "Now, let's analyse the number of patients that didn't show up for each month base on whether their gender."
   ]
  },
  {
   "cell_type": "code",
   "execution_count": 59,
   "metadata": {
    "scrolled": true
   },
   "outputs": [],
   "source": [
    "# get number of male patients that didn't show up for each month.\n",
    "\n",
    "males = unique_patients_no_show.query(\"Gender=='M'\")\n",
    "num_males_per_month = males.groupby(males.AppointmentDay.dt.month)['AppointmentID'].count()"
   ]
  },
  {
   "cell_type": "code",
   "execution_count": 60,
   "metadata": {},
   "outputs": [],
   "source": [
    "# get number of male patients that didn't show up for each month.\n",
    "\n",
    "females = unique_patients_no_show.query(\"Gender=='F'\")\n",
    "num_females_per_month = females.groupby(females.AppointmentDay.dt.month)['AppointmentID'].count()"
   ]
  },
  {
   "cell_type": "markdown",
   "metadata": {},
   "source": [
    "Let's compare the data for both patient categories in a plot."
   ]
  },
  {
   "cell_type": "code",
   "execution_count": 61,
   "metadata": {},
   "outputs": [
    {
     "data": {
      "image/png": "[encoded data removed]",
      "text/plain": [
       "<matplotlib.figure.Figure at 0x7f92de2d07b8>"
      ]
     },
     "metadata": {
      "needs_background": "light"
     },
     "output_type": "display_data"
    }
   ],
   "source": [
    "# plot the data for each category of patients\n",
    "\n",
    "title=\"\"\"Number of patients that didn't show up grouped by month and gender\"\"\"\n",
    "x_label=\"Month\"\n",
    "y_label=\"Number of Patients\"\n",
    "legend_labels=[\"Male\", \"Female\"]\n",
    "plot_2d_bar_chart(months, num_males_per_month,\n",
    "                  num_females_per_month, title, x_label, y_label, legend_labels)"
   ]
  },
  {
   "cell_type": "markdown",
   "metadata": {},
   "source": [
    "It looks like there is a trend that **female patients are less likely to show up.**"
   ]
  },
  {
   "cell_type": "markdown",
   "metadata": {},
   "source": [
    "### Are patients less likely to show up if their appointment is on the same day it was scheduled?"
   ]
  },
  {
   "cell_type": "markdown",
   "metadata": {},
   "source": [
    "To answer this question, we will compare the proportion of patients whose appointment was on the same day it was scheduled and those whose appointment was on a different day. We will also compare the number of patients that fall in each of these categories in each month."
   ]
  },
  {
   "cell_type": "code",
   "execution_count": 62,
   "metadata": {},
   "outputs": [],
   "source": [
    "# patients whose appointment fell on the same day it was scheduled\n",
    "same_date = df.ScheduledDay.dt.date == df.AppointmentDay.dt.date\n",
    "appointments_on_same_day = df[same_date]\n",
    "\n",
    "# patients whoe appointment fell on a different day\n",
    "diff_date = df.ScheduledDay.dt.date < df.AppointmentDay.dt.date\n",
    "appointments_on_diff_day = df[diff_date]"
   ]
  },
  {
   "cell_type": "code",
   "execution_count": 63,
   "metadata": {},
   "outputs": [],
   "source": [
    "# compute the total number of patients whose appointment fell on the same day it was scheduled\n",
    "# and those that fell on a different day but didn't show up.\n",
    "\n",
    "diff_day_no_shows = appointments_on_diff_day.query(\"No_show == 1\").PatientId.unique()\n",
    "same_day_no_shows = appointments_on_same_day.query(\"No_show == 1\").PatientId.unique()\n",
    "\n",
    "total = diff_day_no_shows.shape[0] + same_day_no_shows.shape[0]"
   ]
  },
  {
   "cell_type": "code",
   "execution_count": 64,
   "metadata": {},
   "outputs": [],
   "source": [
    "# compute the relative proportion of patients whose appointment fell on the same day it was scheduled\n",
    "# and those that fell on a different day but didn't show up.\n",
    "\n",
    "prop_diff_day_no_show = diff_day_no_shows.shape[0]/total\n",
    "prop_same_day_no_shows = same_day_no_shows.shape[0]/total"
   ]
  },
  {
   "cell_type": "code",
   "execution_count": 65,
   "metadata": {
    "scrolled": false
   },
   "outputs": [
    {
     "data": {
      "image/png": "[encoded data removed]",
      "text/plain": [
       "<matplotlib.figure.Figure at 0x7f92de26ceb8>"
      ]
     },
     "metadata": {
      "needs_background": "light"
     },
     "output_type": "display_data"
    }
   ],
   "source": [
    "# visualize their proportions\n",
    "\n",
    "proportions = {'ScheduleDay<AppointmentDay': prop_diff_day_no_show, \n",
    "               'ScheduleDay==AppointmentDay': prop_same_day_no_shows}\n",
    "title=\"Proportion of patients that didn't show up.\"\n",
    "\n",
    "plot_proportions(proportions, title)"
   ]
  },
  {
   "cell_type": "markdown",
   "metadata": {},
   "source": [
    "Now, let's analyse the number of patients that didn't show up for each month base on whether their appointment fell on the same day it was scheduled. First, we will get these categories of patients from the unique_patients_no_show data frame."
   ]
  },
  {
   "cell_type": "code",
   "execution_count": 66,
   "metadata": {},
   "outputs": [],
   "source": [
    "# patients whose appointment fell on the same day it was scheduled\n",
    "same_date = unique_patients_no_show.ScheduledDay.dt.date == unique_patients_no_show.AppointmentDay.dt.date\n",
    "appointments_on_same_day = unique_patients_no_show[same_date]\n",
    "\n",
    "# patients whose appointment fell on a different day\n",
    "diff_date = unique_patients_no_show.ScheduledDay.dt.date < unique_patients_no_show.AppointmentDay.dt.date\n",
    "appointments_on_diff_day = unique_patients_no_show[diff_date]"
   ]
  },
  {
   "cell_type": "markdown",
   "metadata": {},
   "source": [
    "Now, let's find the number of patients that fall into these categories for each month."
   ]
  },
  {
   "cell_type": "code",
   "execution_count": 67,
   "metadata": {},
   "outputs": [
    {
     "data": {
      "text/plain": [
       "AppointmentDay\n",
       "4     31\n",
       "5    943\n",
       "6    196\n",
       "Name: AppointmentID, dtype: int64"
      ]
     },
     "execution_count": 67,
     "metadata": {},
     "output_type": "execute_result"
    }
   ],
   "source": [
    "# number of patients whose appointment was on the same day it was scheduled for each month\n",
    "\n",
    "same_day_appointment_by_month= appointments_on_same_day.groupby(\n",
    "    appointments_on_same_day.AppointmentDay.dt.month)['AppointmentID'].count()\n",
    "same_day_appointment_by_month"
   ]
  },
  {
   "cell_type": "code",
   "execution_count": 68,
   "metadata": {
    "scrolled": true
   },
   "outputs": [
    {
     "data": {
      "text/plain": [
       "AppointmentDay\n",
       "4      569\n",
       "5    12667\n",
       "6     3255\n",
       "Name: AppointmentID, dtype: int64"
      ]
     },
     "execution_count": 68,
     "metadata": {},
     "output_type": "execute_result"
    }
   ],
   "source": [
    "# number of patients whose appointment was on a different day for each month\n",
    "\n",
    "diff_day_appointment_by_month = appointments_on_diff_day.groupby(\n",
    "    appointments_on_diff_day.AppointmentDay.dt.month)['AppointmentID'].count()\n",
    "diff_day_appointment_by_month"
   ]
  },
  {
   "cell_type": "markdown",
   "metadata": {},
   "source": [
    "Let's compare the data for both patient categories in a plot."
   ]
  },
  {
   "cell_type": "code",
   "execution_count": 69,
   "metadata": {},
   "outputs": [
    {
     "data": {
      "image/png": "[encoded data removed]",
      "text/plain": [
       "<matplotlib.figure.Figure at 0x7f92de303cc0>"
      ]
     },
     "metadata": {
      "needs_background": "light"
     },
     "output_type": "display_data"
    }
   ],
   "source": [
    "# plot the data for each category of patients\n",
    "\n",
    "title=\"\"\"Number of patients that didn't show up grouped by month\n",
    "and whether their appointment fell on the same day it was scheduled or not.\"\"\"\n",
    "x_label=\"Month\"\n",
    "y_label=\"Number of Patients\"\n",
    "legend_labels=[\"Same day\", \"Different day\"]\n",
    "plot_2d_bar_chart(months, same_day_appointment_by_month,\n",
    "                  diff_day_appointment_by_month, title, x_label, y_label, legend_labels)"
   ]
  },
  {
   "cell_type": "markdown",
   "metadata": {},
   "source": [
    "It seems there is a trend that **patients whose appointment fell on a different day from the day it was scheduled are less likely to show up.**"
   ]
  },
  {
   "cell_type": "markdown",
   "metadata": {},
   "source": [
    "###  Which of the age groups are less likely to show up?"
   ]
  },
  {
   "cell_type": "markdown",
   "metadata": {},
   "source": [
    "First, let's create a data frame of unique patients."
   ]
  },
  {
   "cell_type": "code",
   "execution_count": 70,
   "metadata": {},
   "outputs": [
    {
     "data": {
      "text/plain": [
       "(62298, 14)"
      ]
     },
     "execution_count": 70,
     "metadata": {},
     "output_type": "execute_result"
    }
   ],
   "source": [
    "df_unique_patients = df[df['PatientId'].duplicated()==False]\n",
    "df_unique_patients.shape"
   ]
  },
  {
   "cell_type": "code",
   "execution_count": 71,
   "metadata": {},
   "outputs": [
    {
     "data": {
      "text/plain": [
       "True"
      ]
     },
     "execution_count": 71,
     "metadata": {},
     "output_type": "execute_result"
    }
   ],
   "source": [
    "# check if we have correctly gotten all the unique patients\n",
    "df_unique_patients.shape[0] == df.PatientId.unique().shape[0]"
   ]
  },
  {
   "cell_type": "markdown",
   "metadata": {},
   "source": [
    "Now, let's take a look at the histogram of the Age column."
   ]
  },
  {
   "cell_type": "code",
   "execution_count": 72,
   "metadata": {
    "scrolled": true
   },
   "outputs": [
    {
     "data": {
      "image/png": "[encoded data removed]",
      "text/plain": [
       "<matplotlib.figure.Figure at 0x7f92de3ae2b0>"
      ]
     },
     "metadata": {
      "needs_background": "light"
     },
     "output_type": "display_data"
    }
   ],
   "source": [
    "df_unique_patients[\"Age\"].hist();\n",
    "plt.title(\"Histogram of Age\")\n",
    "plt.xlabel(\"age\")\n",
    "plt.ylabel(\"frequency\");"
   ]
  },
  {
   "cell_type": "markdown",
   "metadata": {},
   "source": [
    "The distribution of the age of patients is skewed to the right with a mode of 0 years. This means that most of the patients are babies."
   ]
  },
  {
   "cell_type": "code",
   "execution_count": 73,
   "metadata": {
    "scrolled": false
   },
   "outputs": [
    {
     "data": {
      "text/plain": [
       "count    62298.000000\n",
       "mean        36.705496\n",
       "std         23.531076\n",
       "min          0.000000\n",
       "25%         17.000000\n",
       "50%         36.000000\n",
       "75%         56.000000\n",
       "max        115.000000\n",
       "Name: Age, dtype: float64"
      ]
     },
     "execution_count": 73,
     "metadata": {},
     "output_type": "execute_result"
    }
   ],
   "source": [
    "df_unique_patients['Age'].describe()"
   ]
  },
  {
   "cell_type": "markdown",
   "metadata": {},
   "source": [
    "The summary statistics of the Age column shows that the mean age is about 37 years. Let's group the age of the patients into four categories: \"Children\", \"Young Adults\", \"Middle-Aged\", and \"Older Adults\"."
   ]
  },
  {
   "cell_type": "code",
   "execution_count": 74,
   "metadata": {
    "scrolled": true
   },
   "outputs": [
    {
     "name": "stderr",
     "output_type": "stream",
     "text": [
      "/opt/conda/lib/python3.6/site-packages/ipykernel_launcher.py:5: SettingWithCopyWarning: \n",
      "A value is trying to be set on a copy of a slice from a DataFrame.\n",
      "Try using .loc[row_indexer,col_indexer] = value instead\n",
      "\n",
      "See the caveats in the documentation: http://pandas.pydata.org/pandas-docs/stable/indexing.html#indexing-view-versus-copy\n",
      "  \"\"\"\n"
     ]
    }
   ],
   "source": [
    "# create a new column for age groups\n",
    "\n",
    "bin_edges = [-1,19,36,56,116]\n",
    "cat_labels = ['Children', 'Young Adults', 'Middle-Aged', 'Older Adults']\n",
    "df_unique_patients['age_cat'] = pd.cut(df_unique_patients['Age'], bins=bin_edges, labels=cat_labels)"
   ]
  },
  {
   "cell_type": "code",
   "execution_count": 75,
   "metadata": {},
   "outputs": [
    {
     "data": {
      "text/html": [
       "<div>\n",
       "<style scoped>\n",
       "    .dataframe tbody tr th:only-of-type {\n",
       "        vertical-align: middle;\n",
       "    }\n",
       "\n",
       "    .dataframe tbody tr th {\n",
       "        vertical-align: top;\n",
       "    }\n",
       "\n",
       "    .dataframe thead th {\n",
       "        text-align: right;\n",
       "    }\n",
       "</style>\n",
       "<table border=\"1\" class=\"dataframe\">\n",
       "  <thead>\n",
       "    <tr style=\"text-align: right;\">\n",
       "      <th></th>\n",
       "      <th>PatientId</th>\n",
       "      <th>AppointmentID</th>\n",
       "      <th>Gender</th>\n",
       "      <th>ScheduledDay</th>\n",
       "      <th>AppointmentDay</th>\n",
       "      <th>Age</th>\n",
       "      <th>Neighbourhood</th>\n",
       "      <th>Scholarship</th>\n",
       "      <th>Hypertension</th>\n",
       "      <th>Diabetes</th>\n",
       "      <th>Alcoholism</th>\n",
       "      <th>Handcap</th>\n",
       "      <th>SMS_received</th>\n",
       "      <th>No_show</th>\n",
       "      <th>age_cat</th>\n",
       "    </tr>\n",
       "  </thead>\n",
       "  <tbody>\n",
       "    <tr>\n",
       "      <th>0</th>\n",
       "      <td>2.98724998243e+13</td>\n",
       "      <td>5642903</td>\n",
       "      <td>F</td>\n",
       "      <td>2016-04-29 18:38:08</td>\n",
       "      <td>2016-04-29</td>\n",
       "      <td>62</td>\n",
       "      <td>JARDIM DA PENHA</td>\n",
       "      <td>0</td>\n",
       "      <td>1</td>\n",
       "      <td>0</td>\n",
       "      <td>0</td>\n",
       "      <td>0</td>\n",
       "      <td>0</td>\n",
       "      <td>0</td>\n",
       "      <td>Older Adults</td>\n",
       "    </tr>\n",
       "    <tr>\n",
       "      <th>1</th>\n",
       "      <td>5.58997776694e+14</td>\n",
       "      <td>5642503</td>\n",
       "      <td>M</td>\n",
       "      <td>2016-04-29 16:08:27</td>\n",
       "      <td>2016-04-29</td>\n",
       "      <td>56</td>\n",
       "      <td>JARDIM DA PENHA</td>\n",
       "      <td>0</td>\n",
       "      <td>0</td>\n",
       "      <td>0</td>\n",
       "      <td>0</td>\n",
       "      <td>0</td>\n",
       "      <td>0</td>\n",
       "      <td>0</td>\n",
       "      <td>Middle-Aged</td>\n",
       "    </tr>\n",
       "    <tr>\n",
       "      <th>2</th>\n",
       "      <td>4.26296229995e+12</td>\n",
       "      <td>5642549</td>\n",
       "      <td>F</td>\n",
       "      <td>2016-04-29 16:19:04</td>\n",
       "      <td>2016-04-29</td>\n",
       "      <td>62</td>\n",
       "      <td>MATA DA PRAIA</td>\n",
       "      <td>0</td>\n",
       "      <td>0</td>\n",
       "      <td>0</td>\n",
       "      <td>0</td>\n",
       "      <td>0</td>\n",
       "      <td>0</td>\n",
       "      <td>0</td>\n",
       "      <td>Older Adults</td>\n",
       "    </tr>\n",
       "    <tr>\n",
       "      <th>3</th>\n",
       "      <td>867951213174</td>\n",
       "      <td>5642828</td>\n",
       "      <td>F</td>\n",
       "      <td>2016-04-29 17:29:31</td>\n",
       "      <td>2016-04-29</td>\n",
       "      <td>8</td>\n",
       "      <td>PONTAL DE CAMBURI</td>\n",
       "      <td>0</td>\n",
       "      <td>0</td>\n",
       "      <td>0</td>\n",
       "      <td>0</td>\n",
       "      <td>0</td>\n",
       "      <td>0</td>\n",
       "      <td>0</td>\n",
       "      <td>Children</td>\n",
       "    </tr>\n",
       "    <tr>\n",
       "      <th>4</th>\n",
       "      <td>8.84118644818e+12</td>\n",
       "      <td>5642494</td>\n",
       "      <td>F</td>\n",
       "      <td>2016-04-29 16:07:23</td>\n",
       "      <td>2016-04-29</td>\n",
       "      <td>56</td>\n",
       "      <td>JARDIM DA PENHA</td>\n",
       "      <td>0</td>\n",
       "      <td>1</td>\n",
       "      <td>1</td>\n",
       "      <td>0</td>\n",
       "      <td>0</td>\n",
       "      <td>0</td>\n",
       "      <td>0</td>\n",
       "      <td>Middle-Aged</td>\n",
       "    </tr>\n",
       "  </tbody>\n",
       "</table>\n",
       "</div>"
      ],
      "text/plain": [
       "           PatientId  AppointmentID Gender        ScheduledDay AppointmentDay  \\\n",
       "0  2.98724998243e+13        5642903      F 2016-04-29 18:38:08     2016-04-29   \n",
       "1  5.58997776694e+14        5642503      M 2016-04-29 16:08:27     2016-04-29   \n",
       "2  4.26296229995e+12        5642549      F 2016-04-29 16:19:04     2016-04-29   \n",
       "3       867951213174        5642828      F 2016-04-29 17:29:31     2016-04-29   \n",
       "4  8.84118644818e+12        5642494      F 2016-04-29 16:07:23     2016-04-29   \n",
       "\n",
       "   Age      Neighbourhood  Scholarship  Hypertension  Diabetes  Alcoholism  \\\n",
       "0   62    JARDIM DA PENHA            0             1         0           0   \n",
       "1   56    JARDIM DA PENHA            0             0         0           0   \n",
       "2   62      MATA DA PRAIA            0             0         0           0   \n",
       "3    8  PONTAL DE CAMBURI            0             0         0           0   \n",
       "4   56    JARDIM DA PENHA            0             1         1           0   \n",
       "\n",
       "   Handcap  SMS_received  No_show       age_cat  \n",
       "0        0             0        0  Older Adults  \n",
       "1        0             0        0   Middle-Aged  \n",
       "2        0             0        0  Older Adults  \n",
       "3        0             0        0      Children  \n",
       "4        0             0        0   Middle-Aged  "
      ]
     },
     "execution_count": 75,
     "metadata": {},
     "output_type": "execute_result"
    }
   ],
   "source": [
    "df_unique_patients.head()"
   ]
  },
  {
   "cell_type": "markdown",
   "metadata": {},
   "source": [
    "We can now visualize the age group of the patients that didn't show up."
   ]
  },
  {
   "cell_type": "code",
   "execution_count": 76,
   "metadata": {
    "scrolled": true
   },
   "outputs": [
    {
     "data": {
      "image/png": "[encoded data removed]",
      "text/plain": [
       "<matplotlib.figure.Figure at 0x7f92de5567f0>"
      ]
     },
     "metadata": {
      "needs_background": "light"
     },
     "output_type": "display_data"
    }
   ],
   "source": [
    "# age group of patients that didn't show up\n",
    "\n",
    "noShows = df_unique_patients[df_unique_patients['No_show'] ==1]\n",
    "ind = noShows['age_cat'].value_counts().index\n",
    "noShows['age_cat'].value_counts()[ind].plot(kind='bar', title=\"Age group of patients that didn't show up\");"
   ]
  },
  {
   "cell_type": "markdown",
   "metadata": {},
   "source": [
    "Let's compare the number of patients that didn't show grouped by month and each age category in a plot to see if there might be a trend in which children are less likely to show up."
   ]
  },
  {
   "cell_type": "code",
   "execution_count": 77,
   "metadata": {
    "scrolled": true
   },
   "outputs": [
    {
     "data": {
      "text/plain": [
       "age_cat       AppointmentDay\n",
       "Children      4                  188\n",
       "              5                 3058\n",
       "              6                  509\n",
       "Young Adults  4                  170\n",
       "              5                 2553\n",
       "              6                  404\n",
       "Middle-Aged   4                  122\n",
       "              5                 2568\n",
       "              6                  438\n",
       "Older Adults  4                   95\n",
       "              5                 1719\n",
       "              6                  369\n",
       "Name: AppointmentID, dtype: int64"
      ]
     },
     "execution_count": 77,
     "metadata": {},
     "output_type": "execute_result"
    }
   ],
   "source": [
    "num_of_patients_each_month = noShows.groupby(['age_cat',noShows.AppointmentDay.dt.month])['AppointmentID'].count()\n",
    "num_of_patients_each_month"
   ]
  },
  {
   "cell_type": "code",
   "execution_count": 78,
   "metadata": {},
   "outputs": [
    {
     "data": {
      "image/png": "[encoded data removed]",
      "text/plain": [
       "<matplotlib.figure.Figure at 0x7f92de3d3a20>"
      ]
     },
     "metadata": {
      "needs_background": "light"
     },
     "output_type": "display_data"
    }
   ],
   "source": [
    "x_axis = np.arange(len(months))\n",
    "\n",
    "plt.bar(x_axis-0.4,num_of_patients_each_month[cat_labels[0]], width=0.2, label=cat_labels[0])\n",
    "plt.bar(x_axis-0.2, num_of_patients_each_month[cat_labels[1]], width=0.2, label=cat_labels[1])\n",
    "plt.bar(x_axis, num_of_patients_each_month[cat_labels[2]], width=0.2, label=cat_labels[2])\n",
    "plt.bar(x_axis+0.2, num_of_patients_each_month[cat_labels[3]], width=0.2, label=cat_labels[3])\n",
    "\n",
    "plt.title('Number of patients grouped by month and age category')\n",
    "plt.xticks(x_axis, months)\n",
    "plt.xlabel('Month')\n",
    "plt.ylabel('Number of Patients')\n",
    "plt.legend();"
   ]
  },
  {
   "cell_type": "markdown",
   "metadata": {},
   "source": [
    "From the above plot. It seems that there is indeed a trend. Therefore, we can conclude that **children are less likely to make their appointments while older adults are more likely to make theirs.** \n",
    "\n",
    "Note: I got how to make multi-bar charts from [GeeksforGeeks.](https://www.geeksforgeeks.org/plotting-multiple-bar-charts-using-matplotlib-in-python/)"
   ]
  },
  {
   "cell_type": "markdown",
   "metadata": {},
   "source": [
    "<a id='conclusions'></a>\n",
    "## Conclusions\n",
    "\n",
    "Here is a summary of our findings:\n",
    "- patients with multiple appointments are probably less likely to show up than those with a single appointment; \n",
    "- patients that don't suffer from any of the cases considered are probably less likely to show up for their appointments;\n",
    "- patients are probably more likely to show up if they suffer from any of the health conditions but have a scholarship;\n",
    "- we can't conclude that patients that didn't receive an SMS are less likely to show up compared to those that did because this only happened in the month of May;\n",
    "- male patients are probably less likely to show up;\n",
    "- patients are probably more likely to show up if their appointment fell on the same they that it was scheduled; and\n",
    "- children are probably less likely to make their appointments while older adults are more likely to make theirs.\n",
    "\n",
    "Therefore, the following factors might help us predict if a patient will likely not show up for their appointment: \n",
    "- if they have more than one appointment\n",
    "- if they don't suffer from any case of hypertension, diabetes, alcohol related problems or disability;\n",
    "- if they don't have a scholarship;\n",
    "- if they are males;\n",
    "- if their appointments don't fall on the same day it is scheduled; and\n",
    "- if they are children;\n",
    "\n",
    "The above findings are not conclusive and would still need to undergo statistical tests.\n",
    "\n",
    "### Limitations\n",
    "\n",
    "We would need to research further on why there are patients with multiple appointments. We are not sure if the appointments were made with more than one health practitioners or if they were appointments that were rescheduled. Furthermore, it is possible that patients may suffer from other health problems that might determine if they will or will not show up for their appointments which were not recorded in the data set. This is another area that requires further research."
   ]
  },
  {
   "cell_type": "code",
   "execution_count": 84,
   "metadata": {},
   "outputs": [
    {
     "data": {
      "text/plain": [
       "0"
      ]
     },
     "execution_count": 84,
     "metadata": {},
     "output_type": "execute_result"
    }
   ],
   "source": [
    "from subprocess import call\n",
    "call(['python', '-m', 'nbconvert', 'Investigate_a_Dataset.ipynb'])"
   ]
  },
  {
   "cell_type": "code",
   "execution_count": null,
   "metadata": {},
   "outputs": [],
   "source": []
  }
 ],
 "metadata": {
  "kernelspec": {
   "display_name": "Python 3",
   "language": "python",
   "name": "python3"
  },
  "language_info": {
   "codemirror_mode": {
    "name": "ipython",
    "version": 3
   },
   "file_extension": ".py",
   "mimetype": "text/x-python",
   "name": "python",
   "nbconvert_exporter": "python",
   "pygments_lexer": "ipython3",
   "version": "3.6.3"
  }
 },
 "nbformat": 4,
 "nbformat_minor": 2
}
